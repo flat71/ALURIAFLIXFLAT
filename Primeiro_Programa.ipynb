{
  "nbformat": 4,
  "nbformat_minor": 0,
  "metadata": {
    "colab": {
      "provenance": [],
      "authorship_tag": "ABX9TyNxpHtQAnm416NCTeecGAzE",
      "include_colab_link": true
    },
    "kernelspec": {
      "name": "python3",
      "display_name": "Python 3"
    },
    "language_info": {
      "name": "python"
    }
  },
  "cells": [
    {
      "cell_type": "markdown",
      "metadata": {
        "id": "view-in-github",
        "colab_type": "text"
      },
      "source": [
        "<a href=\"https://colab.research.google.com/github/flat71/ALURIAFLIXFLAT/blob/main/Primeiro_Programa.ipynb\" target=\"_parent\"><img src=\"https://colab.research.google.com/assets/colab-badge.svg\" alt=\"Open In Colab\"/></a>"
      ]
    },
    {
      "cell_type": "code",
      "execution_count": 2,
      "metadata": {
        "colab": {
          "base_uri": "https://localhost:8080/"
        },
        "id": "jnVIJUYmMGKx",
        "outputId": "f0eb3562-12c9-43eb-eb15-eaf252541358"
      },
      "outputs": [
        {
          "output_type": "stream",
          "name": "stdout",
          "text": [
            "Olá, mundo!\n"
          ]
        }
      ],
      "source": [
        "print('Olá, mundo!')"
      ]
    },
    {
      "cell_type": "code",
      "source": [
        " print(2+3)"
      ],
      "metadata": {
        "colab": {
          "base_uri": "https://localhost:8080/"
        },
        "id": "SIvSzLwVPQCo",
        "outputId": "e72c4678-bfa7-4165-d3b0-e133893b642c"
      },
      "execution_count": 4,
      "outputs": [
        {
          "output_type": "stream",
          "name": "stdout",
          "text": [
            "5\n"
          ]
        }
      ]
    },
    {
      "cell_type": "code",
      "source": [],
      "metadata": {
        "id": "AQGTRaqiReFg"
      },
      "execution_count": null,
      "outputs": []
    },
    {
      "cell_type": "code",
      "source": [
        " print(\"O resultado da soma de 2+3 é:\", 2+3)"
      ],
      "metadata": {
        "colab": {
          "base_uri": "https://localhost:8080/"
        },
        "id": "W8CHieaAReHn",
        "outputId": "5e791369-7830-4bd8-c906-1cdc25288426"
      },
      "execution_count": 5,
      "outputs": [
        {
          "output_type": "stream",
          "name": "stdout",
          "text": [
            "O resultado da soma de 2+3 é: 5\n"
          ]
        }
      ]
    },
    {
      "cell_type": "code",
      "source": [],
      "metadata": {
        "id": "1IPWjZaaSkoV"
      },
      "execution_count": null,
      "outputs": []
    },
    {
      "cell_type": "code",
      "source": [
        "print(10* (5+7) /4)"
      ],
      "metadata": {
        "colab": {
          "base_uri": "https://localhost:8080/"
        },
        "id": "ryKf6h42SkqI",
        "outputId": "73ab2516-4167-40b3-de92-03a6f2e91485"
      },
      "execution_count": 7,
      "outputs": [
        {
          "output_type": "stream",
          "name": "stdout",
          "text": [
            "30.0\n"
          ]
        }
      ]
    },
    {
      "cell_type": "markdown",
      "source": [],
      "metadata": {
        "id": "YwMWZso3XPHc"
      }
    },
    {
      "cell_type": "markdown",
      "source": [
        "VARIÁVEIS, DADOS E SEUS TIPOS\n"
      ],
      "metadata": {
        "id": "BQQawP2yXPJb"
      }
    },
    {
      "cell_type": "code",
      "source": [
        "  nota = 8.5\n",
        "  disciplina =  'Lógica de Programação e Algoritmos'\n",
        "\n",
        "  print (nota)\n",
        "  print (disciplina)"
      ],
      "metadata": {
        "colab": {
          "base_uri": "https://localhost:8080/"
        },
        "id": "JdMuvbgVXWYD",
        "outputId": "e7f8983d-f309-4b8a-8751-49f6d8cee085"
      },
      "execution_count": 9,
      "outputs": [
        {
          "output_type": "stream",
          "name": "stdout",
          "text": [
            "8.5\n",
            "Lógica de Programação e Algoritmos\n"
          ]
        }
      ]
    },
    {
      "cell_type": "markdown",
      "source": [
        "Variável lógica\n"
      ],
      "metadata": {
        "id": "fcigk6NubcwU"
      }
    },
    {
      "cell_type": "code",
      "source": [
        "  a = 1 #a recebe 1\n",
        "  b = 5 #b recebe 5"
      ],
      "metadata": {
        "id": "o1vHIQNdXWaV"
      },
      "execution_count": 10,
      "outputs": []
    },
    {
      "cell_type": "code",
      "source": [
        "  resposta = a ==b\n",
        "  print(resposta)"
      ],
      "metadata": {
        "colab": {
          "base_uri": "https://localhost:8080/"
        },
        "id": "9IYiqa5fb_ah",
        "outputId": "7a9c232d-3682-4ac2-edb1-1fe374d2e752"
      },
      "execution_count": 11,
      "outputs": [
        {
          "output_type": "stream",
          "name": "stdout",
          "text": [
            "False\n"
          ]
        }
      ]
    },
    {
      "cell_type": "code",
      "source": [
        " resposta = a != b\n",
        " print(resposta)"
      ],
      "metadata": {
        "colab": {
          "base_uri": "https://localhost:8080/"
        },
        "id": "eYJSRhrKcWdI",
        "outputId": "a15e164c-cd2b-4856-d4f5-e5a2c45f604a"
      },
      "execution_count": 12,
      "outputs": [
        {
          "output_type": "stream",
          "name": "stdout",
          "text": [
            "True\n"
          ]
        }
      ]
    },
    {
      "cell_type": "markdown",
      "source": [
        "Variável String"
      ],
      "metadata": {
        "id": "h_2korl7fjaR"
      }
    },
    {
      "cell_type": "code",
      "source": [
        " frase = 'Olá, mundo!'\n",
        " print(frase)"
      ],
      "metadata": {
        "colab": {
          "base_uri": "https://localhost:8080/"
        },
        "id": "y5vdk2tZfvHG",
        "outputId": "600ad403-b503-4c0f-f945-241773d8034b"
      },
      "execution_count": 13,
      "outputs": [
        {
          "output_type": "stream",
          "name": "stdout",
          "text": [
            "Olá, mundo!\n"
          ]
        }
      ]
    },
    {
      "cell_type": "markdown",
      "source": [
        "Acessando o índice"
      ],
      "metadata": {
        "id": "dR4NJVfegYDE"
      }
    },
    {
      "cell_type": "code",
      "source": [
        "  print (frase[0])"
      ],
      "metadata": {
        "colab": {
          "base_uri": "https://localhost:8080/"
        },
        "id": "VSLZSfQKgUYd",
        "outputId": "32fd808a-6c04-4ef9-a51e-b65a0e386204"
      },
      "execution_count": 14,
      "outputs": [
        {
          "output_type": "stream",
          "name": "stdout",
          "text": [
            "O\n"
          ]
        }
      ]
    },
    {
      "cell_type": "code",
      "source": [
        "  print (frase[6])\n"
      ],
      "metadata": {
        "colab": {
          "base_uri": "https://localhost:8080/"
        },
        "id": "9haVq9F4gojV",
        "outputId": "ec5fc101-1492-46eb-b475-18114357630e"
      },
      "execution_count": 17,
      "outputs": [
        {
          "output_type": "stream",
          "name": "stdout",
          "text": [
            "u\n"
          ]
        }
      ]
    },
    {
      "cell_type": "code",
      "source": [],
      "metadata": {
        "id": "g95PQURggolB"
      },
      "execution_count": null,
      "outputs": []
    }
  ]
}