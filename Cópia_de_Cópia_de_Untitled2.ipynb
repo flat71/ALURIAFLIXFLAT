{
  "nbformat": 4,
  "nbformat_minor": 0,
  "metadata": {
    "colab": {
      "provenance": [],
      "include_colab_link": true
    },
    "kernelspec": {
      "name": "python3",
      "display_name": "Python 3"
    },
    "language_info": {
      "name": "python"
    }
  },
  "cells": [
    {
      "cell_type": "markdown",
      "metadata": {
        "id": "view-in-github",
        "colab_type": "text"
      },
      "source": [
        "<a href=\"https://colab.research.google.com/github/flat71/ALURIAFLIXFLAT/blob/main/C%C3%B3pia_de_C%C3%B3pia_de_Untitled2.ipynb\" target=\"_parent\"><img src=\"https://colab.research.google.com/assets/colab-badge.svg\" alt=\"Open In Colab\"/></a>"
      ]
    },
    {
      "cell_type": "code",
      "execution_count": null,
      "metadata": {
        "colab": {
          "base_uri": "https://localhost:8080/",
          "height": 547
        },
        "id": "vpmcUaRIWh8k",
        "outputId": "ed8e9d32-dd9b-4024-aa23-def4b74a1a6e"
      },
      "outputs": [
        {
          "output_type": "stream",
          "name": "stdout",
          "text": [
            "Digite 'fruta' para receber a sua fruta do dia ou 'sair' para fechar o programa \n",
            "banana\n",
            "Comando não compreendido.\n",
            "Digite 'fruta' para receber a sua fruta do dia ou 'sair' para fechar o programa \n",
            "fruta\n",
            "Sua fruta do dia é melancia. \n",
            "\n",
            "Digite 'fruta' para receber a sua fruta do dia ou 'sair' para fechar o programa \n",
            "fruta\n",
            "Sua fruta do dia é mexirica. \n",
            "\n"
          ]
        },
        {
          "output_type": "error",
          "ename": "KeyboardInterrupt",
          "evalue": "Interrupted by user",
          "traceback": [
            "\u001b[0;31m---------------------------------------------------------------------------\u001b[0m",
            "\u001b[0;31mKeyboardInterrupt\u001b[0m                         Traceback (most recent call last)",
            "\u001b[0;32m/tmp/ipython-input-634888808.py\u001b[0m in \u001b[0;36m<cell line: 0>\u001b[0;34m()\u001b[0m\n\u001b[1;32m      3\u001b[0m \u001b[0;34m\u001b[0m\u001b[0m\n\u001b[1;32m      4\u001b[0m \u001b[0;32mwhile\u001b[0m \u001b[0;32mTrue\u001b[0m\u001b[0;34m:\u001b[0m\u001b[0;34m\u001b[0m\u001b[0;34m\u001b[0m\u001b[0m\n\u001b[0;32m----> 5\u001b[0;31m     \u001b[0mresp\u001b[0m \u001b[0;34m=\u001b[0m \u001b[0minput\u001b[0m\u001b[0;34m(\u001b[0m\u001b[0;34m\"Digite 'fruta' para receber a sua fruta do dia ou 'sair' para fechar o programa \\n\"\u001b[0m\u001b[0;34m)\u001b[0m\u001b[0;34m.\u001b[0m\u001b[0mlower\u001b[0m\u001b[0;34m(\u001b[0m\u001b[0;34m)\u001b[0m\u001b[0;34m.\u001b[0m\u001b[0mstrip\u001b[0m\u001b[0;34m(\u001b[0m\u001b[0;34m)\u001b[0m\u001b[0;34m\u001b[0m\u001b[0;34m\u001b[0m\u001b[0m\n\u001b[0m\u001b[1;32m      6\u001b[0m \u001b[0;34m\u001b[0m\u001b[0m\n\u001b[1;32m      7\u001b[0m     \u001b[0;32mif\u001b[0m \u001b[0mresp\u001b[0m \u001b[0;34m==\u001b[0m \u001b[0;34m\"fruta\"\u001b[0m\u001b[0;34m:\u001b[0m\u001b[0;34m\u001b[0m\u001b[0;34m\u001b[0m\u001b[0m\n",
            "\u001b[0;32m/usr/local/lib/python3.12/dist-packages/ipykernel/kernelbase.py\u001b[0m in \u001b[0;36mraw_input\u001b[0;34m(self, prompt)\u001b[0m\n\u001b[1;32m   1175\u001b[0m                 \u001b[0;34m\"raw_input was called, but this frontend does not support input requests.\"\u001b[0m\u001b[0;34m\u001b[0m\u001b[0;34m\u001b[0m\u001b[0m\n\u001b[1;32m   1176\u001b[0m             )\n\u001b[0;32m-> 1177\u001b[0;31m         return self._input_request(\n\u001b[0m\u001b[1;32m   1178\u001b[0m             \u001b[0mstr\u001b[0m\u001b[0;34m(\u001b[0m\u001b[0mprompt\u001b[0m\u001b[0;34m)\u001b[0m\u001b[0;34m,\u001b[0m\u001b[0;34m\u001b[0m\u001b[0;34m\u001b[0m\u001b[0m\n\u001b[1;32m   1179\u001b[0m             \u001b[0mself\u001b[0m\u001b[0;34m.\u001b[0m\u001b[0m_parent_ident\u001b[0m\u001b[0;34m[\u001b[0m\u001b[0;34m\"shell\"\u001b[0m\u001b[0;34m]\u001b[0m\u001b[0;34m,\u001b[0m\u001b[0;34m\u001b[0m\u001b[0;34m\u001b[0m\u001b[0m\n",
            "\u001b[0;32m/usr/local/lib/python3.12/dist-packages/ipykernel/kernelbase.py\u001b[0m in \u001b[0;36m_input_request\u001b[0;34m(self, prompt, ident, parent, password)\u001b[0m\n\u001b[1;32m   1217\u001b[0m             \u001b[0;32mexcept\u001b[0m \u001b[0mKeyboardInterrupt\u001b[0m\u001b[0;34m:\u001b[0m\u001b[0;34m\u001b[0m\u001b[0;34m\u001b[0m\u001b[0m\n\u001b[1;32m   1218\u001b[0m                 \u001b[0;31m# re-raise KeyboardInterrupt, to truncate traceback\u001b[0m\u001b[0;34m\u001b[0m\u001b[0;34m\u001b[0m\u001b[0m\n\u001b[0;32m-> 1219\u001b[0;31m                 \u001b[0;32mraise\u001b[0m \u001b[0mKeyboardInterrupt\u001b[0m\u001b[0;34m(\u001b[0m\u001b[0;34m\"Interrupted by user\"\u001b[0m\u001b[0;34m)\u001b[0m \u001b[0;32mfrom\u001b[0m \u001b[0;32mNone\u001b[0m\u001b[0;34m\u001b[0m\u001b[0;34m\u001b[0m\u001b[0m\n\u001b[0m\u001b[1;32m   1220\u001b[0m             \u001b[0;32mexcept\u001b[0m \u001b[0mException\u001b[0m\u001b[0;34m:\u001b[0m\u001b[0;34m\u001b[0m\u001b[0;34m\u001b[0m\u001b[0m\n\u001b[1;32m   1221\u001b[0m                 \u001b[0mself\u001b[0m\u001b[0;34m.\u001b[0m\u001b[0mlog\u001b[0m\u001b[0;34m.\u001b[0m\u001b[0mwarning\u001b[0m\u001b[0;34m(\u001b[0m\u001b[0;34m\"Invalid Message:\"\u001b[0m\u001b[0;34m,\u001b[0m \u001b[0mexc_info\u001b[0m\u001b[0;34m=\u001b[0m\u001b[0;32mTrue\u001b[0m\u001b[0;34m)\u001b[0m\u001b[0;34m\u001b[0m\u001b[0;34m\u001b[0m\u001b[0m\n",
            "\u001b[0;31mKeyboardInterrupt\u001b[0m: Interrupted by user"
          ]
        }
      ],
      "source": [
        "import random\n",
        "frutas = [\"banana\", \"laranja\", \"maça\", \"lichia\", \"uva\", \"melancia\", \"mexirica\"]\n",
        "\n",
        "while True:\n",
        "    resp = input(\"Digite 'fruta' para receber a sua fruta do dia ou 'sair' para fechar o programa \\n\").lower().strip()\n",
        "\n",
        "    if resp == \"fruta\":\n",
        "        fruta = random.choice(frutas)\n",
        "        print(f\"Sua fruta do dia é {fruta}. \\n\")\n",
        "    elif resp == \"sair\":\n",
        "        print(\"Tchauzinho\")\n",
        "        break\n",
        "    else:\n",
        "        print(\"Comando não compreendido.\")\n"
      ]
    },
    {
      "cell_type": "code",
      "source": [
        "import random\n",
        "frutas = [\"banana\", \"laranja\", \"maça\", \"lichia\", \"uva\", \"melancia\", \"mexirica\"]\n",
        "x=True\n",
        "while x==True:\n",
        "    resp = input(\"Digite 'fruta' para receber a sua fruta do dia ou 'sair' para fechar o programa \\n\").lower().strip()\n",
        "\n",
        "    if resp == \"fruta\":\n",
        "        fruta = random.choice(frutas)\n",
        "        print(f\"Sua fruta do dia é {fruta}. \\n\")\n",
        "    elif resp == \"sair\":\n",
        "        print(\"Tchauzinho \\n\")\n",
        "        x=False\n",
        "    else:\n",
        "        print(\"Comando não compreendido.\")"
      ],
      "metadata": {
        "colab": {
          "base_uri": "https://localhost:8080/"
        },
        "id": "cOeBAjLhYcjI",
        "outputId": "db5ad26d-2358-4d1e-ed23-9316c151ee46"
      },
      "execution_count": null,
      "outputs": [
        {
          "output_type": "stream",
          "name": "stdout",
          "text": [
            "Digite 'fruta' para receber a sua fruta do dia ou 'sair' para fechar o programa \n",
            "sair\n",
            "Tchauzinho \n",
            "\n"
          ]
        }
      ]
    },
    {
      "cell_type": "code",
      "source": [
        "import random\n",
        "frutas = [\"banana\", \"laranja\", \"maça\", \"lichia\", \"uva\", \"melancia\", \"mexirica\"]\n",
        "\n",
        "def funcao():\n",
        "    while True:\n",
        "        resp = input(\"Digite 'fruta' para receber a sua fruta do dia ou 'sair' para fechar o programa \\n\").lower().strip()\n",
        "\n",
        "        if resp == \"fruta\":\n",
        "            fruta = random.choice(frutas)\n",
        "            print(f\"Sua fruta do dia é {fruta}. \\n\")\n",
        "        elif resp == \"sair\":\n",
        "            return print(\"Tchauzinho \\n\")\n",
        "        else:\n",
        "            print(\"Comando não compreendido.\")\n",
        "funcao()"
      ],
      "metadata": {
        "colab": {
          "base_uri": "https://localhost:8080/"
        },
        "id": "wNSEornEY6wT",
        "outputId": "14e3ccf0-1b31-4110-a819-9e5d240968c1"
      },
      "execution_count": null,
      "outputs": [
        {
          "output_type": "stream",
          "name": "stdout",
          "text": [
            "Digite 'fruta' para receber a sua fruta do dia ou 'sair' para fechar o programa \n",
            "fruta\n",
            "Sua fruta do dia é melancia. \n",
            "\n",
            "Digite 'fruta' para receber a sua fruta do dia ou 'sair' para fechar o programa \n",
            "sair\n",
            "Tchauzinho \n",
            "\n"
          ]
        }
      ]
    }
  ]
}